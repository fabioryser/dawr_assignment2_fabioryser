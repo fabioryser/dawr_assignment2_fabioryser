{
 "cells": [
  {
   "cell_type": "code",
   "execution_count": 1,
   "metadata": {
    "ExecuteTime": {
     "start_time": "2023-05-04T13:26:34.679216Z",
     "end_time": "2023-05-04T13:26:37.174831Z"
    }
   },
   "outputs": [
    {
     "name": "stdout",
     "output_type": "stream",
     "text": [
      "C:\\Users\\Fabio\\Documents\\6. Semester\\dawr\\Assignment2\\src\n",
      "C:\\Users\\Fabio\\Documents\\6. Semester\\dawr\\Assignment2\\src\n"
     ]
    },
    {
     "name": "stderr",
     "output_type": "stream",
     "text": [
      "C:\\Users\\Fabio\\Documents\\6. Semester\\dawr\\Assignment2\\src\\util.py:50: FutureWarning: The pandas.np module is deprecated and will be removed from pandas in a future version. Import numpy directly instead.\n",
      "  df.replace('---', pd.np.nan, inplace=True)\n",
      "C:\\Users\\Fabio\\Documents\\6. Semester\\dawr\\Assignment2\\src\\util.py:50: FutureWarning: The pandas.np module is deprecated and will be removed from pandas in a future version. Import numpy directly instead.\n",
      "  df.replace('---', pd.np.nan, inplace=True)\n",
      "C:\\Users\\Fabio\\Documents\\6. Semester\\dawr\\Assignment2\\src\\util.py:68: FutureWarning: The default value of regex will change from True to False in a future version.\n",
      "  df_coordinates['Ortschaftsname'] = df_coordinates['Ortschaftsname'].str.replace(' b. Willisau', '')\n",
      "C:\\Users\\Fabio\\Documents\\6. Semester\\dawr\\Assignment2\\src\\util.py:50: FutureWarning: The pandas.np module is deprecated and will be removed from pandas in a future version. Import numpy directly instead.\n",
      "  df.replace('---', pd.np.nan, inplace=True)\n",
      "C:\\Users\\Fabio\\Documents\\6. Semester\\dawr\\Assignment2\\src\\util.py:50: FutureWarning: The pandas.np module is deprecated and will be removed from pandas in a future version. Import numpy directly instead.\n",
      "  df.replace('---', pd.np.nan, inplace=True)\n",
      "C:\\Users\\Fabio\\Documents\\6. Semester\\dawr\\Assignment2\\src\\coordinates.py:20: FutureWarning: The default value of regex will change from True to False in a future version.\n",
      "  df_coordinates['Ortschaftsname'] = df_coordinates['Ortschaftsname'].str.replace(' b. Willisau', '')\n"
     ]
    }
   ],
   "source": [
    "import os\n",
    "\n",
    "import numpy as np\n",
    "import pandas as pd\n",
    "from sklearn import linear_model\n",
    "from sklearn.ensemble import GradientBoostingRegressor\n",
    "from sklearn.model_selection import cross_val_score\n",
    "from src.helper import prepare_dataframe\n",
    "from src.main import read_data, coop_data, get_coordinates_for_prontos, find_min_dist_to_next_pronto, preprocess_finance_df, merge_dataframes, read_csv, create_csv"
   ]
  },
  {
   "cell_type": "markdown",
   "metadata": {},
   "source": [
    "# Helper Functions"
   ]
  },
  {
   "cell_type": "markdown",
   "metadata": {},
   "source": [
    "These functions train a model on your data and use cross validation to determine the average negative mean squared error. You do not have to edit these! However, it might make sense to add new helper functions here."
   ]
  },
  {
   "cell_type": "code",
   "execution_count": 2,
   "metadata": {
    "ExecuteTime": {
     "start_time": "2023-05-04T13:26:37.174831Z",
     "end_time": "2023-05-04T13:26:37.195020Z"
    }
   },
   "outputs": [],
   "source": [
    "def scoreLinear(X, y):\n",
    "    \"\"\"Trains a linear regression model and evaluates it with 3-fold cross validation.\n",
    "  \n",
    "    Parameters: \n",
    "    X (array): Training data of shape (n_samples, n_features)\n",
    "    y (array): Target values of shape (n_samples,)\n",
    "  \n",
    "    Returns: \n",
    "    Float: average score of the model after cross validation\n",
    "    \"\"\"\n",
    "    regr = linear_model.LinearRegression()\n",
    "    scores = cross_val_score(regr, X, y, cv=3, scoring='neg_mean_squared_error')\n",
    "    return scores.mean()"
   ]
  },
  {
   "cell_type": "code",
   "execution_count": 3,
   "metadata": {
    "ExecuteTime": {
     "start_time": "2023-05-04T13:26:37.207697Z",
     "end_time": "2023-05-04T13:26:37.321530Z"
    }
   },
   "outputs": [],
   "source": [
    "def scoreBoosting(X, y):\n",
    "    \"\"\"Trains a gradient boosting model and evaluates it with 3-fold cross validation.\n",
    "  \n",
    "    Parameters: \n",
    "    X (array): Training data of shape (n_samples, n_features)\n",
    "    y (array): Target values of shape (n_samples,)\n",
    "  \n",
    "    Returns: \n",
    "    Float: average score of the model after cross validation\n",
    "    \"\"\"\n",
    "    clf = GradientBoostingRegressor(n_estimators=100, learning_rate=0.1, max_depth=2, random_state=0, loss='ls')\n",
    "    scores = cross_val_score(clf, X, np.ravel(y), cv=3, scoring='neg_mean_squared_error')\n",
    "    return scores.mean()"
   ]
  },
  {
   "cell_type": "code",
   "execution_count": 4,
   "metadata": {
    "ExecuteTime": {
     "start_time": "2023-05-04T13:26:37.224185Z",
     "end_time": "2023-05-04T13:26:37.334272Z"
    }
   },
   "outputs": [],
   "source": [
    "def dataframeToXy(df, predict_column, feature_columns):\n",
    "    \"\"\"Convert the dataframe to a format usable for the ML algorithms\"\"\"\n",
    "    X = df[feature_columns].values.reshape(-1, df[feature_columns].shape[1]) # all features\n",
    "    y = df[[predict_column]].values.reshape(-1, 1) # values to predict\n",
    "    return X, y"
   ]
  },
  {
   "cell_type": "code",
   "execution_count": 5,
   "metadata": {
    "ExecuteTime": {
     "start_time": "2023-05-04T13:26:37.252735Z",
     "end_time": "2023-05-04T13:26:37.334272Z"
    }
   },
   "outputs": [],
   "source": [
    "def runScoring(df, predict_column, feature_columns):\n",
    "    \"\"\"This runs both algorithms to determine the scores for all given features in the dataset.\n",
    "    \n",
    "    Parameters: \n",
    "    df (dataframe): dataframe with Score and features\n",
    "    predict_column: name of the value to predict, e.g. 'Score'\n",
    "    feature_columns: list of all column names that are to be used as features\n",
    "  \n",
    "    Returns: \n",
    "    linear: negative mean squared error of linear regression\n",
    "    boost: negative mean squared error of boosting algorithm\n",
    "    \"\"\"\n",
    "    X, y = dataframeToXy(df, predict_column, feature_columns)\n",
    "    boost = scoreBoosting(X, y)\n",
    "    linear = scoreLinear(X, y)\n",
    "    return linear, boost"
   ]
  },
  {
   "cell_type": "code",
   "execution_count": 6,
   "metadata": {
    "ExecuteTime": {
     "start_time": "2023-05-04T13:26:37.276587Z",
     "end_time": "2023-05-04T13:26:37.334272Z"
    }
   },
   "outputs": [],
   "source": [
    "def runScoringSimple(df, predict_column):\n",
    "    \"\"\"Alternative to function above, this takes all the columns in the \n",
    "    dataframe as features except the single column which is used for the score.\n",
    "    \"\"\"\n",
    "    all_feature_columns = list(df.columns)\n",
    "    all_feature_columns.remove(predict_column)\n",
    "    return runScoring(df, predict_column, all_feature_columns)"
   ]
  },
  {
   "cell_type": "code",
   "execution_count": 7,
   "metadata": {
    "ExecuteTime": {
     "start_time": "2023-05-04T13:26:37.302938Z",
     "end_time": "2023-05-04T13:26:37.334272Z"
    }
   },
   "outputs": [],
   "source": [
    "def createBaselineRandom(df, predict_column):\n",
    "    \"\"\"creates random features and returns the average score after 20 rounds\"\"\"\n",
    "    np.random.seed(0)\n",
    "    baseline = df[['Score']].copy()\n",
    "    averageLinearScore = 0\n",
    "    averageBoostingScore = 0\n",
    "    rounds = 20\n",
    "    for i in range(rounds):\n",
    "        baseline['feature1'] = np.random.randint(0, 100, df.shape[0])\n",
    "        baseline['feature2'] = np.random.randint(0, 100, df.shape[0])\n",
    "        baseline['feature3'] = np.random.randint(0, 100, df.shape[0])\n",
    "        lin, boost = runScoring(baseline, predict_column, ['feature1', 'feature2', 'feature3'])\n",
    "        averageLinearScore += lin / rounds\n",
    "        averageBoostingScore += boost / rounds\n",
    "    print(f'linear   : {averageLinearScore}')\n",
    "    print(f'boosting : {averageBoostingScore}')"
   ]
  },
  {
   "cell_type": "markdown",
   "metadata": {},
   "source": [
    "# Load Data"
   ]
  },
  {
   "cell_type": "markdown",
   "metadata": {},
   "source": [
    "Recommended: Make sure you have a column named 'Score', preferably as the first column, while the name of the municipality is the index.\n"
   ]
  },
  {
   "cell_type": "code",
   "execution_count": 8,
   "metadata": {
    "ExecuteTime": {
     "start_time": "2023-05-04T13:26:37.329340Z",
     "end_time": "2023-05-04T13:26:37.402806Z"
    }
   },
   "outputs": [
    {
     "name": "stderr",
     "output_type": "stream",
     "text": [
      "C:\\Users\\Fabio\\Documents\\6. Semester\\dawr\\Assignment2\\src\\main.py:126: FutureWarning: The pandas.np module is deprecated and will be removed from pandas in a future version. Import numpy directly instead.\n",
      "  df.replace('---', pd.np.nan, inplace=True)\n"
     ]
    },
    {
     "data": {
      "text/plain": "                    Score  Total Anzahl Personen Sozialhilfe  \\\nGemeindename                                                   \nDoppleschwand    0.000000                                0.0   \nHonau            0.089783                                0.0   \nRomoos           0.161609                                0.0   \nFlühli           0.215479                                7.0   \nVitznau          0.233435                                9.0   \n...                   ...                                ...   \nHorw            10.055665                              351.0   \nEbikon          15.550368                              443.0   \nKriens          27.024600                             1004.0   \nEmmen           29.718082                             1136.0   \nLuzern         100.000000                             3598.0   \n\n               Total Verunfallte Personen  Total Anzahl Unfälle 2021  \nGemeindename                                                          \nDoppleschwand                         0.0                        0.0  \nHonau                                 1.0                        1.0  \nRomoos                                3.0                        0.0  \nFlühli                                1.0                        1.0  \nVitznau                               0.0                        2.0  \n...                                   ...                        ...  \nHorw                                 29.0                       61.0  \nEbikon                               69.0                      108.0  \nKriens                               73.0                      141.0  \nEmmen                                71.0                      153.0  \nLuzern                              289.0                      552.0  \n\n[80 rows x 4 columns]",
      "text/html": "<div>\n<style scoped>\n    .dataframe tbody tr th:only-of-type {\n        vertical-align: middle;\n    }\n\n    .dataframe tbody tr th {\n        vertical-align: top;\n    }\n\n    .dataframe thead th {\n        text-align: right;\n    }\n</style>\n<table border=\"1\" class=\"dataframe\">\n  <thead>\n    <tr style=\"text-align: right;\">\n      <th></th>\n      <th>Score</th>\n      <th>Total Anzahl Personen Sozialhilfe</th>\n      <th>Total Verunfallte Personen</th>\n      <th>Total Anzahl Unfälle 2021</th>\n    </tr>\n    <tr>\n      <th>Gemeindename</th>\n      <th></th>\n      <th></th>\n      <th></th>\n      <th></th>\n    </tr>\n  </thead>\n  <tbody>\n    <tr>\n      <th>Doppleschwand</th>\n      <td>0.000000</td>\n      <td>0.0</td>\n      <td>0.0</td>\n      <td>0.0</td>\n    </tr>\n    <tr>\n      <th>Honau</th>\n      <td>0.089783</td>\n      <td>0.0</td>\n      <td>1.0</td>\n      <td>1.0</td>\n    </tr>\n    <tr>\n      <th>Romoos</th>\n      <td>0.161609</td>\n      <td>0.0</td>\n      <td>3.0</td>\n      <td>0.0</td>\n    </tr>\n    <tr>\n      <th>Flühli</th>\n      <td>0.215479</td>\n      <td>7.0</td>\n      <td>1.0</td>\n      <td>1.0</td>\n    </tr>\n    <tr>\n      <th>Vitznau</th>\n      <td>0.233435</td>\n      <td>9.0</td>\n      <td>0.0</td>\n      <td>2.0</td>\n    </tr>\n    <tr>\n      <th>...</th>\n      <td>...</td>\n      <td>...</td>\n      <td>...</td>\n      <td>...</td>\n    </tr>\n    <tr>\n      <th>Horw</th>\n      <td>10.055665</td>\n      <td>351.0</td>\n      <td>29.0</td>\n      <td>61.0</td>\n    </tr>\n    <tr>\n      <th>Ebikon</th>\n      <td>15.550368</td>\n      <td>443.0</td>\n      <td>69.0</td>\n      <td>108.0</td>\n    </tr>\n    <tr>\n      <th>Kriens</th>\n      <td>27.024600</td>\n      <td>1004.0</td>\n      <td>73.0</td>\n      <td>141.0</td>\n    </tr>\n    <tr>\n      <th>Emmen</th>\n      <td>29.718082</td>\n      <td>1136.0</td>\n      <td>71.0</td>\n      <td>153.0</td>\n    </tr>\n    <tr>\n      <th>Luzern</th>\n      <td>100.000000</td>\n      <td>3598.0</td>\n      <td>289.0</td>\n      <td>552.0</td>\n    </tr>\n  </tbody>\n</table>\n<p>80 rows × 4 columns</p>\n</div>"
     },
     "execution_count": 8,
     "metadata": {},
     "output_type": "execute_result"
    }
   ],
   "source": [
    "ranking = read_csv('data', 'safety-ranking.csv')\n",
    "# benenne Gemeinde in Gemeindename um\n",
    "ranking = ranking.rename(columns={'Gemeinde': 'Gemeindename'})\n",
    "ranking = ranking.set_index('Gemeindename')\n",
    "ranking"
   ]
  },
  {
   "cell_type": "markdown",
   "metadata": {},
   "source": [
    "These are the features that were used to create the original ranking in Assignment 1:  \n",
    "**TODO: Please write down your original features here!**\n"
   ]
  },
  {
   "cell_type": "markdown",
   "source": [
    "- Total Anzahl Personen Sozialhilfe\n",
    "- Total Verunfallte Personen\n",
    "- Total Anzahl Unfälle"
   ],
   "metadata": {
    "collapsed": false
   }
  },
  {
   "cell_type": "markdown",
   "metadata": {},
   "source": [
    "# Get a first baseline for your model with random values"
   ]
  },
  {
   "cell_type": "code",
   "execution_count": 9,
   "metadata": {
    "ExecuteTime": {
     "start_time": "2023-05-04T13:26:37.366924Z",
     "end_time": "2023-05-04T13:26:39.066865Z"
    }
   },
   "outputs": [
    {
     "name": "stderr",
     "output_type": "stream",
     "text": [
      "C:\\Users\\Fabio\\anaconda3\\lib\\site-packages\\sklearn\\ensemble\\_gb.py:286: FutureWarning: The loss 'ls' was deprecated in v1.0 and will be removed in version 1.2. Use 'squared_error' which is equivalent.\n",
      "  warnings.warn(\n",
      "C:\\Users\\Fabio\\anaconda3\\lib\\site-packages\\sklearn\\ensemble\\_gb.py:286: FutureWarning: The loss 'ls' was deprecated in v1.0 and will be removed in version 1.2. Use 'squared_error' which is equivalent.\n",
      "  warnings.warn(\n",
      "C:\\Users\\Fabio\\anaconda3\\lib\\site-packages\\sklearn\\ensemble\\_gb.py:286: FutureWarning: The loss 'ls' was deprecated in v1.0 and will be removed in version 1.2. Use 'squared_error' which is equivalent.\n",
      "  warnings.warn(\n",
      "C:\\Users\\Fabio\\anaconda3\\lib\\site-packages\\sklearn\\ensemble\\_gb.py:286: FutureWarning: The loss 'ls' was deprecated in v1.0 and will be removed in version 1.2. Use 'squared_error' which is equivalent.\n",
      "  warnings.warn(\n",
      "C:\\Users\\Fabio\\anaconda3\\lib\\site-packages\\sklearn\\ensemble\\_gb.py:286: FutureWarning: The loss 'ls' was deprecated in v1.0 and will be removed in version 1.2. Use 'squared_error' which is equivalent.\n",
      "  warnings.warn(\n",
      "C:\\Users\\Fabio\\anaconda3\\lib\\site-packages\\sklearn\\ensemble\\_gb.py:286: FutureWarning: The loss 'ls' was deprecated in v1.0 and will be removed in version 1.2. Use 'squared_error' which is equivalent.\n",
      "  warnings.warn(\n",
      "C:\\Users\\Fabio\\anaconda3\\lib\\site-packages\\sklearn\\ensemble\\_gb.py:286: FutureWarning: The loss 'ls' was deprecated in v1.0 and will be removed in version 1.2. Use 'squared_error' which is equivalent.\n",
      "  warnings.warn(\n",
      "C:\\Users\\Fabio\\anaconda3\\lib\\site-packages\\sklearn\\ensemble\\_gb.py:286: FutureWarning: The loss 'ls' was deprecated in v1.0 and will be removed in version 1.2. Use 'squared_error' which is equivalent.\n",
      "  warnings.warn(\n",
      "C:\\Users\\Fabio\\anaconda3\\lib\\site-packages\\sklearn\\ensemble\\_gb.py:286: FutureWarning: The loss 'ls' was deprecated in v1.0 and will be removed in version 1.2. Use 'squared_error' which is equivalent.\n",
      "  warnings.warn(\n",
      "C:\\Users\\Fabio\\anaconda3\\lib\\site-packages\\sklearn\\ensemble\\_gb.py:286: FutureWarning: The loss 'ls' was deprecated in v1.0 and will be removed in version 1.2. Use 'squared_error' which is equivalent.\n",
      "  warnings.warn(\n",
      "C:\\Users\\Fabio\\anaconda3\\lib\\site-packages\\sklearn\\ensemble\\_gb.py:286: FutureWarning: The loss 'ls' was deprecated in v1.0 and will be removed in version 1.2. Use 'squared_error' which is equivalent.\n",
      "  warnings.warn(\n",
      "C:\\Users\\Fabio\\anaconda3\\lib\\site-packages\\sklearn\\ensemble\\_gb.py:286: FutureWarning: The loss 'ls' was deprecated in v1.0 and will be removed in version 1.2. Use 'squared_error' which is equivalent.\n",
      "  warnings.warn(\n",
      "C:\\Users\\Fabio\\anaconda3\\lib\\site-packages\\sklearn\\ensemble\\_gb.py:286: FutureWarning: The loss 'ls' was deprecated in v1.0 and will be removed in version 1.2. Use 'squared_error' which is equivalent.\n",
      "  warnings.warn(\n",
      "C:\\Users\\Fabio\\anaconda3\\lib\\site-packages\\sklearn\\ensemble\\_gb.py:286: FutureWarning: The loss 'ls' was deprecated in v1.0 and will be removed in version 1.2. Use 'squared_error' which is equivalent.\n",
      "  warnings.warn(\n",
      "C:\\Users\\Fabio\\anaconda3\\lib\\site-packages\\sklearn\\ensemble\\_gb.py:286: FutureWarning: The loss 'ls' was deprecated in v1.0 and will be removed in version 1.2. Use 'squared_error' which is equivalent.\n",
      "  warnings.warn(\n",
      "C:\\Users\\Fabio\\anaconda3\\lib\\site-packages\\sklearn\\ensemble\\_gb.py:286: FutureWarning: The loss 'ls' was deprecated in v1.0 and will be removed in version 1.2. Use 'squared_error' which is equivalent.\n",
      "  warnings.warn(\n",
      "C:\\Users\\Fabio\\anaconda3\\lib\\site-packages\\sklearn\\ensemble\\_gb.py:286: FutureWarning: The loss 'ls' was deprecated in v1.0 and will be removed in version 1.2. Use 'squared_error' which is equivalent.\n",
      "  warnings.warn(\n",
      "C:\\Users\\Fabio\\anaconda3\\lib\\site-packages\\sklearn\\ensemble\\_gb.py:286: FutureWarning: The loss 'ls' was deprecated in v1.0 and will be removed in version 1.2. Use 'squared_error' which is equivalent.\n",
      "  warnings.warn(\n",
      "C:\\Users\\Fabio\\anaconda3\\lib\\site-packages\\sklearn\\ensemble\\_gb.py:286: FutureWarning: The loss 'ls' was deprecated in v1.0 and will be removed in version 1.2. Use 'squared_error' which is equivalent.\n",
      "  warnings.warn(\n",
      "C:\\Users\\Fabio\\anaconda3\\lib\\site-packages\\sklearn\\ensemble\\_gb.py:286: FutureWarning: The loss 'ls' was deprecated in v1.0 and will be removed in version 1.2. Use 'squared_error' which is equivalent.\n",
      "  warnings.warn(\n",
      "C:\\Users\\Fabio\\anaconda3\\lib\\site-packages\\sklearn\\ensemble\\_gb.py:286: FutureWarning: The loss 'ls' was deprecated in v1.0 and will be removed in version 1.2. Use 'squared_error' which is equivalent.\n",
      "  warnings.warn(\n",
      "C:\\Users\\Fabio\\anaconda3\\lib\\site-packages\\sklearn\\ensemble\\_gb.py:286: FutureWarning: The loss 'ls' was deprecated in v1.0 and will be removed in version 1.2. Use 'squared_error' which is equivalent.\n",
      "  warnings.warn(\n",
      "C:\\Users\\Fabio\\anaconda3\\lib\\site-packages\\sklearn\\ensemble\\_gb.py:286: FutureWarning: The loss 'ls' was deprecated in v1.0 and will be removed in version 1.2. Use 'squared_error' which is equivalent.\n",
      "  warnings.warn(\n",
      "C:\\Users\\Fabio\\anaconda3\\lib\\site-packages\\sklearn\\ensemble\\_gb.py:286: FutureWarning: The loss 'ls' was deprecated in v1.0 and will be removed in version 1.2. Use 'squared_error' which is equivalent.\n",
      "  warnings.warn(\n",
      "C:\\Users\\Fabio\\anaconda3\\lib\\site-packages\\sklearn\\ensemble\\_gb.py:286: FutureWarning: The loss 'ls' was deprecated in v1.0 and will be removed in version 1.2. Use 'squared_error' which is equivalent.\n",
      "  warnings.warn(\n",
      "C:\\Users\\Fabio\\anaconda3\\lib\\site-packages\\sklearn\\ensemble\\_gb.py:286: FutureWarning: The loss 'ls' was deprecated in v1.0 and will be removed in version 1.2. Use 'squared_error' which is equivalent.\n",
      "  warnings.warn(\n",
      "C:\\Users\\Fabio\\anaconda3\\lib\\site-packages\\sklearn\\ensemble\\_gb.py:286: FutureWarning: The loss 'ls' was deprecated in v1.0 and will be removed in version 1.2. Use 'squared_error' which is equivalent.\n",
      "  warnings.warn(\n",
      "C:\\Users\\Fabio\\anaconda3\\lib\\site-packages\\sklearn\\ensemble\\_gb.py:286: FutureWarning: The loss 'ls' was deprecated in v1.0 and will be removed in version 1.2. Use 'squared_error' which is equivalent.\n",
      "  warnings.warn(\n",
      "C:\\Users\\Fabio\\anaconda3\\lib\\site-packages\\sklearn\\ensemble\\_gb.py:286: FutureWarning: The loss 'ls' was deprecated in v1.0 and will be removed in version 1.2. Use 'squared_error' which is equivalent.\n",
      "  warnings.warn(\n",
      "C:\\Users\\Fabio\\anaconda3\\lib\\site-packages\\sklearn\\ensemble\\_gb.py:286: FutureWarning: The loss 'ls' was deprecated in v1.0 and will be removed in version 1.2. Use 'squared_error' which is equivalent.\n",
      "  warnings.warn(\n",
      "C:\\Users\\Fabio\\anaconda3\\lib\\site-packages\\sklearn\\ensemble\\_gb.py:286: FutureWarning: The loss 'ls' was deprecated in v1.0 and will be removed in version 1.2. Use 'squared_error' which is equivalent.\n",
      "  warnings.warn(\n",
      "C:\\Users\\Fabio\\anaconda3\\lib\\site-packages\\sklearn\\ensemble\\_gb.py:286: FutureWarning: The loss 'ls' was deprecated in v1.0 and will be removed in version 1.2. Use 'squared_error' which is equivalent.\n",
      "  warnings.warn(\n",
      "C:\\Users\\Fabio\\anaconda3\\lib\\site-packages\\sklearn\\ensemble\\_gb.py:286: FutureWarning: The loss 'ls' was deprecated in v1.0 and will be removed in version 1.2. Use 'squared_error' which is equivalent.\n",
      "  warnings.warn(\n",
      "C:\\Users\\Fabio\\anaconda3\\lib\\site-packages\\sklearn\\ensemble\\_gb.py:286: FutureWarning: The loss 'ls' was deprecated in v1.0 and will be removed in version 1.2. Use 'squared_error' which is equivalent.\n",
      "  warnings.warn(\n",
      "C:\\Users\\Fabio\\anaconda3\\lib\\site-packages\\sklearn\\ensemble\\_gb.py:286: FutureWarning: The loss 'ls' was deprecated in v1.0 and will be removed in version 1.2. Use 'squared_error' which is equivalent.\n",
      "  warnings.warn(\n",
      "C:\\Users\\Fabio\\anaconda3\\lib\\site-packages\\sklearn\\ensemble\\_gb.py:286: FutureWarning: The loss 'ls' was deprecated in v1.0 and will be removed in version 1.2. Use 'squared_error' which is equivalent.\n",
      "  warnings.warn(\n",
      "C:\\Users\\Fabio\\anaconda3\\lib\\site-packages\\sklearn\\ensemble\\_gb.py:286: FutureWarning: The loss 'ls' was deprecated in v1.0 and will be removed in version 1.2. Use 'squared_error' which is equivalent.\n",
      "  warnings.warn(\n",
      "C:\\Users\\Fabio\\anaconda3\\lib\\site-packages\\sklearn\\ensemble\\_gb.py:286: FutureWarning: The loss 'ls' was deprecated in v1.0 and will be removed in version 1.2. Use 'squared_error' which is equivalent.\n",
      "  warnings.warn(\n",
      "C:\\Users\\Fabio\\anaconda3\\lib\\site-packages\\sklearn\\ensemble\\_gb.py:286: FutureWarning: The loss 'ls' was deprecated in v1.0 and will be removed in version 1.2. Use 'squared_error' which is equivalent.\n",
      "  warnings.warn(\n",
      "C:\\Users\\Fabio\\anaconda3\\lib\\site-packages\\sklearn\\ensemble\\_gb.py:286: FutureWarning: The loss 'ls' was deprecated in v1.0 and will be removed in version 1.2. Use 'squared_error' which is equivalent.\n",
      "  warnings.warn(\n",
      "C:\\Users\\Fabio\\anaconda3\\lib\\site-packages\\sklearn\\ensemble\\_gb.py:286: FutureWarning: The loss 'ls' was deprecated in v1.0 and will be removed in version 1.2. Use 'squared_error' which is equivalent.\n",
      "  warnings.warn(\n",
      "C:\\Users\\Fabio\\anaconda3\\lib\\site-packages\\sklearn\\ensemble\\_gb.py:286: FutureWarning: The loss 'ls' was deprecated in v1.0 and will be removed in version 1.2. Use 'squared_error' which is equivalent.\n",
      "  warnings.warn(\n",
      "C:\\Users\\Fabio\\anaconda3\\lib\\site-packages\\sklearn\\ensemble\\_gb.py:286: FutureWarning: The loss 'ls' was deprecated in v1.0 and will be removed in version 1.2. Use 'squared_error' which is equivalent.\n",
      "  warnings.warn(\n",
      "C:\\Users\\Fabio\\anaconda3\\lib\\site-packages\\sklearn\\ensemble\\_gb.py:286: FutureWarning: The loss 'ls' was deprecated in v1.0 and will be removed in version 1.2. Use 'squared_error' which is equivalent.\n",
      "  warnings.warn(\n",
      "C:\\Users\\Fabio\\anaconda3\\lib\\site-packages\\sklearn\\ensemble\\_gb.py:286: FutureWarning: The loss 'ls' was deprecated in v1.0 and will be removed in version 1.2. Use 'squared_error' which is equivalent.\n",
      "  warnings.warn(\n",
      "C:\\Users\\Fabio\\anaconda3\\lib\\site-packages\\sklearn\\ensemble\\_gb.py:286: FutureWarning: The loss 'ls' was deprecated in v1.0 and will be removed in version 1.2. Use 'squared_error' which is equivalent.\n",
      "  warnings.warn(\n",
      "C:\\Users\\Fabio\\anaconda3\\lib\\site-packages\\sklearn\\ensemble\\_gb.py:286: FutureWarning: The loss 'ls' was deprecated in v1.0 and will be removed in version 1.2. Use 'squared_error' which is equivalent.\n",
      "  warnings.warn(\n",
      "C:\\Users\\Fabio\\anaconda3\\lib\\site-packages\\sklearn\\ensemble\\_gb.py:286: FutureWarning: The loss 'ls' was deprecated in v1.0 and will be removed in version 1.2. Use 'squared_error' which is equivalent.\n",
      "  warnings.warn(\n",
      "C:\\Users\\Fabio\\anaconda3\\lib\\site-packages\\sklearn\\ensemble\\_gb.py:286: FutureWarning: The loss 'ls' was deprecated in v1.0 and will be removed in version 1.2. Use 'squared_error' which is equivalent.\n",
      "  warnings.warn(\n",
      "C:\\Users\\Fabio\\anaconda3\\lib\\site-packages\\sklearn\\ensemble\\_gb.py:286: FutureWarning: The loss 'ls' was deprecated in v1.0 and will be removed in version 1.2. Use 'squared_error' which is equivalent.\n",
      "  warnings.warn(\n",
      "C:\\Users\\Fabio\\anaconda3\\lib\\site-packages\\sklearn\\ensemble\\_gb.py:286: FutureWarning: The loss 'ls' was deprecated in v1.0 and will be removed in version 1.2. Use 'squared_error' which is equivalent.\n",
      "  warnings.warn(\n",
      "C:\\Users\\Fabio\\anaconda3\\lib\\site-packages\\sklearn\\ensemble\\_gb.py:286: FutureWarning: The loss 'ls' was deprecated in v1.0 and will be removed in version 1.2. Use 'squared_error' which is equivalent.\n",
      "  warnings.warn(\n",
      "C:\\Users\\Fabio\\anaconda3\\lib\\site-packages\\sklearn\\ensemble\\_gb.py:286: FutureWarning: The loss 'ls' was deprecated in v1.0 and will be removed in version 1.2. Use 'squared_error' which is equivalent.\n",
      "  warnings.warn(\n",
      "C:\\Users\\Fabio\\anaconda3\\lib\\site-packages\\sklearn\\ensemble\\_gb.py:286: FutureWarning: The loss 'ls' was deprecated in v1.0 and will be removed in version 1.2. Use 'squared_error' which is equivalent.\n",
      "  warnings.warn(\n",
      "C:\\Users\\Fabio\\anaconda3\\lib\\site-packages\\sklearn\\ensemble\\_gb.py:286: FutureWarning: The loss 'ls' was deprecated in v1.0 and will be removed in version 1.2. Use 'squared_error' which is equivalent.\n",
      "  warnings.warn(\n",
      "C:\\Users\\Fabio\\anaconda3\\lib\\site-packages\\sklearn\\ensemble\\_gb.py:286: FutureWarning: The loss 'ls' was deprecated in v1.0 and will be removed in version 1.2. Use 'squared_error' which is equivalent.\n",
      "  warnings.warn(\n",
      "C:\\Users\\Fabio\\anaconda3\\lib\\site-packages\\sklearn\\ensemble\\_gb.py:286: FutureWarning: The loss 'ls' was deprecated in v1.0 and will be removed in version 1.2. Use 'squared_error' which is equivalent.\n",
      "  warnings.warn(\n"
     ]
    },
    {
     "name": "stdout",
     "output_type": "stream",
     "text": [
      "linear   : -174.09733300234578\n",
      "boosting : -267.36629876029264\n"
     ]
    },
    {
     "name": "stderr",
     "output_type": "stream",
     "text": [
      "C:\\Users\\Fabio\\anaconda3\\lib\\site-packages\\sklearn\\ensemble\\_gb.py:286: FutureWarning: The loss 'ls' was deprecated in v1.0 and will be removed in version 1.2. Use 'squared_error' which is equivalent.\n",
      "  warnings.warn(\n",
      "C:\\Users\\Fabio\\anaconda3\\lib\\site-packages\\sklearn\\ensemble\\_gb.py:286: FutureWarning: The loss 'ls' was deprecated in v1.0 and will be removed in version 1.2. Use 'squared_error' which is equivalent.\n",
      "  warnings.warn(\n",
      "C:\\Users\\Fabio\\anaconda3\\lib\\site-packages\\sklearn\\ensemble\\_gb.py:286: FutureWarning: The loss 'ls' was deprecated in v1.0 and will be removed in version 1.2. Use 'squared_error' which is equivalent.\n",
      "  warnings.warn(\n"
     ]
    }
   ],
   "source": [
    "# This code creates a baseline for your model, using random features\n",
    "createBaselineRandom(ranking, 'Score')"
   ]
  },
  {
   "cell_type": "markdown",
   "metadata": {},
   "source": [
    "**WARNING**: This uses the same dataframe for both the linear model and the boosting model. In your code you will want to use different ones for the different models. Your goal is to get both of these scores to as close as 0 as possible and most likely you will need to do different steps for linear regression and for gradient boosting and therefore have different features. "
   ]
  },
  {
   "cell_type": "markdown",
   "metadata": {},
   "source": [
    "# Get a second baseline by using all features you have"
   ]
  },
  {
   "cell_type": "code",
   "execution_count": 12,
   "metadata": {
    "ExecuteTime": {
     "start_time": "2023-05-04T13:39:41.582974Z",
     "end_time": "2023-05-04T13:39:43.324465Z"
    }
   },
   "outputs": [
    {
     "name": "stderr",
     "output_type": "stream",
     "text": [
      "C:\\Users\\Fabio\\Documents\\6. Semester\\dawr\\Assignment2\\src\\main.py:19: FutureWarning: The default value of regex will change from True to False in a future version.\n",
      "  df_coordinates['Ortschaftsname'] = df_coordinates['Ortschaftsname'].str.replace(' b. Willisau', '')\n"
     ]
    },
    {
     "name": "stdout",
     "output_type": "stream",
     "text": [
      "linear   : -114.32643463820283\n",
      "boosting : -75.3818386923129\n"
     ]
    },
    {
     "name": "stderr",
     "output_type": "stream",
     "text": [
      "C:\\Users\\Fabio\\Documents\\6. Semester\\dawr\\Assignment2\\src\\main.py:126: FutureWarning: The pandas.np module is deprecated and will be removed from pandas in a future version. Import numpy directly instead.\n",
      "  df.replace('---', pd.np.nan, inplace=True)\n",
      "C:\\Users\\Fabio\\Documents\\6. Semester\\dawr\\Assignment2\\src\\main.py:126: FutureWarning: The pandas.np module is deprecated and will be removed from pandas in a future version. Import numpy directly instead.\n",
      "  df.replace('---', pd.np.nan, inplace=True)\n",
      "C:\\Users\\Fabio\\anaconda3\\lib\\site-packages\\sklearn\\ensemble\\_gb.py:286: FutureWarning: The loss 'ls' was deprecated in v1.0 and will be removed in version 1.2. Use 'squared_error' which is equivalent.\n",
      "  warnings.warn(\n",
      "C:\\Users\\Fabio\\anaconda3\\lib\\site-packages\\sklearn\\ensemble\\_gb.py:286: FutureWarning: The loss 'ls' was deprecated in v1.0 and will be removed in version 1.2. Use 'squared_error' which is equivalent.\n",
      "  warnings.warn(\n",
      "C:\\Users\\Fabio\\anaconda3\\lib\\site-packages\\sklearn\\ensemble\\_gb.py:286: FutureWarning: The loss 'ls' was deprecated in v1.0 and will be removed in version 1.2. Use 'squared_error' which is equivalent.\n",
      "  warnings.warn(\n"
     ]
    },
    {
     "data": {
      "text/plain": "                 Score  Alter 0-17  Alter 18-64  Alter 65+  \\\nGemeindename                                                 \nAdligenswil   1.203089         1.2          0.9        0.2   \nAesch         0.520740         0.5          1.2        0.0   \nAlberswil     0.700305         2.6          1.3        0.0   \nAltbüron      0.718262         6.1          2.0        0.0   \nAltishofen    1.005567         2.1          1.3        0.0   \n...                ...         ...          ...        ...   \nHonau         0.089783         0.0          0.0        0.0   \nRain          1.490393         0.0          0.0        0.0   \nRomoos        0.161609         0.0          0.0        0.0   \nSchenkon      1.490393         0.0          0.0        0.0   \nSchlierbach   0.251392         0.0          0.0        0.0   \n\n              obligatorische Schule  sekundarstufe I  tertiärstufe  \\\nGemeindename                                                         \nAdligenswil                     0.0              0.2           0.0   \nAesch                           0.0              0.0           0.0   \nAlberswil                       0.0              0.0           0.0   \nAltbüron                        0.0              0.0           0.0   \nAltishofen                      0.0              0.0           0.0   \n...                             ...              ...           ...   \nHonau                           0.0              0.0           0.0   \nRain                            0.0              0.0           0.0   \nRomoos                          0.0              0.0           0.0   \nSchenkon                        0.0              0.0           0.0   \nSchlierbach                     0.0              0.0           0.0   \n\n              Personenschaden absolut mit Personenschaden  \\\nGemeindename                                                \nAdligenswil                                             3   \nAesch                                                   1   \nAlberswil                                               4   \nAltbüron                                                1   \nAltishofen                                              5   \n...                                                   ...   \nHonau                                                   1   \nRain                                                   12   \nRomoos                                                  0   \nSchenkon                                                9   \nSchlierbach                                             2   \n\n              Personenschaden pro 1000 Einwohner  \\\nGemeindename                                       \nAdligenswil                                  0.5   \nAesch                                        0.8   \nAlberswil                                    6.0   \nAltbüron                                     1.0   \nAltishofen                                   2.5   \n...                                          ...   \nHonau                                        2.4   \nRain                                         4.1   \nRomoos                                       0.0   \nSchenkon                                     2.9   \nSchlierbach                                  2.2   \n\n              Durchschnitt Anzahl 2017-2021  ...  Finanzvermögen¹  \\\nGemeindename                                 ...                    \nAdligenswil                             4.0  ...         40621889   \nAesch                                   3.0  ...         11552799   \nAlberswil                               3.0  ...          4955889   \nAltbüron                                2.0  ...          6513672   \nAltishofen                              4.0  ...         13569690   \n...                                     ...  ...              ...   \nHonau                                   1.0  ...          5369088   \nRain                                    5.0  ...         36640455   \nRomoos                                  0.0  ...          2402308   \nSchenkon                               11.0  ...         50773750   \nSchlierbach                             1.0  ...          6084253   \n\n              Verwaltungsvermögen  Total Passiven  Fremdkapital  Eigenkapital  \\\nGemeindename                                                                    \nAdligenswil              36196780        76818669      43315758      33502911   \nAesch                     9913351        21466150       7704460      13761690   \nAlberswil                 3367123         8323012       4375329       3947683   \nAltbüron                  5530778        12044450       8502752       3541699   \nAltishofen               13773478        27343168       6820858      20522311   \n...                           ...             ...           ...           ...   \nHonau                       45734         5414822       2694182       2720640   \nRain                     14631698        51272154      35526066      15746088   \nRomoos                    5181736         7584044       1241493       6342551   \nSchenkon                 31100927        81874677      42945796      38928881   \nSchlierbach               6091308        12175561       9429405       2746155   \n\n              Spezielfinanzierung EK  Fond im EK  Aufwertungsreserven  \\\nGemeindename                                                            \nAdligenswil                  6979702      299028                    0   \nAesch                        8167324           0                 2860   \nAlberswil                    1287875       30763                    0   \nAltbüron                     1254746       38801                    0   \nAltishofen                   4876009       56841              4775488   \n...                              ...         ...                  ...   \nHonau                        1765375      163816                    0   \nRain                         4744277       28687              2159032   \nRomoos                        579826      204486              1365246   \nSchenkon                     4491128     1023992              7130196   \nSchlierbach                   388231       72427                    0   \n\n              überiges Eigentkapital  Bilanzüberschuss  \nGemeindename                                            \nAdligenswil                        0          26224182  \nAesch                              0           5591506  \nAlberswil                          0           2629044  \nAltbüron                           0           2248152  \nAltishofen                         0          10813973  \n...                              ...               ...  \nHonau                              0            791449  \nRain                               0           8814092  \nRomoos                             0           4192993  \nSchenkon                           0          26283564  \nSchlierbach                        0           2285497  \n\n[80 rows x 38 columns]",
      "text/html": "<div>\n<style scoped>\n    .dataframe tbody tr th:only-of-type {\n        vertical-align: middle;\n    }\n\n    .dataframe tbody tr th {\n        vertical-align: top;\n    }\n\n    .dataframe thead th {\n        text-align: right;\n    }\n</style>\n<table border=\"1\" class=\"dataframe\">\n  <thead>\n    <tr style=\"text-align: right;\">\n      <th></th>\n      <th>Score</th>\n      <th>Alter 0-17</th>\n      <th>Alter 18-64</th>\n      <th>Alter 65+</th>\n      <th>obligatorische Schule</th>\n      <th>sekundarstufe I</th>\n      <th>tertiärstufe</th>\n      <th>Personenschaden absolut mit Personenschaden</th>\n      <th>Personenschaden pro 1000 Einwohner</th>\n      <th>Durchschnitt Anzahl 2017-2021</th>\n      <th>...</th>\n      <th>Finanzvermögen¹</th>\n      <th>Verwaltungsvermögen</th>\n      <th>Total Passiven</th>\n      <th>Fremdkapital</th>\n      <th>Eigenkapital</th>\n      <th>Spezielfinanzierung EK</th>\n      <th>Fond im EK</th>\n      <th>Aufwertungsreserven</th>\n      <th>überiges Eigentkapital</th>\n      <th>Bilanzüberschuss</th>\n    </tr>\n    <tr>\n      <th>Gemeindename</th>\n      <th></th>\n      <th></th>\n      <th></th>\n      <th></th>\n      <th></th>\n      <th></th>\n      <th></th>\n      <th></th>\n      <th></th>\n      <th></th>\n      <th></th>\n      <th></th>\n      <th></th>\n      <th></th>\n      <th></th>\n      <th></th>\n      <th></th>\n      <th></th>\n      <th></th>\n      <th></th>\n      <th></th>\n    </tr>\n  </thead>\n  <tbody>\n    <tr>\n      <th>Adligenswil</th>\n      <td>1.203089</td>\n      <td>1.2</td>\n      <td>0.9</td>\n      <td>0.2</td>\n      <td>0.0</td>\n      <td>0.2</td>\n      <td>0.0</td>\n      <td>3</td>\n      <td>0.5</td>\n      <td>4.0</td>\n      <td>...</td>\n      <td>40621889</td>\n      <td>36196780</td>\n      <td>76818669</td>\n      <td>43315758</td>\n      <td>33502911</td>\n      <td>6979702</td>\n      <td>299028</td>\n      <td>0</td>\n      <td>0</td>\n      <td>26224182</td>\n    </tr>\n    <tr>\n      <th>Aesch</th>\n      <td>0.520740</td>\n      <td>0.5</td>\n      <td>1.2</td>\n      <td>0.0</td>\n      <td>0.0</td>\n      <td>0.0</td>\n      <td>0.0</td>\n      <td>1</td>\n      <td>0.8</td>\n      <td>3.0</td>\n      <td>...</td>\n      <td>11552799</td>\n      <td>9913351</td>\n      <td>21466150</td>\n      <td>7704460</td>\n      <td>13761690</td>\n      <td>8167324</td>\n      <td>0</td>\n      <td>2860</td>\n      <td>0</td>\n      <td>5591506</td>\n    </tr>\n    <tr>\n      <th>Alberswil</th>\n      <td>0.700305</td>\n      <td>2.6</td>\n      <td>1.3</td>\n      <td>0.0</td>\n      <td>0.0</td>\n      <td>0.0</td>\n      <td>0.0</td>\n      <td>4</td>\n      <td>6.0</td>\n      <td>3.0</td>\n      <td>...</td>\n      <td>4955889</td>\n      <td>3367123</td>\n      <td>8323012</td>\n      <td>4375329</td>\n      <td>3947683</td>\n      <td>1287875</td>\n      <td>30763</td>\n      <td>0</td>\n      <td>0</td>\n      <td>2629044</td>\n    </tr>\n    <tr>\n      <th>Altbüron</th>\n      <td>0.718262</td>\n      <td>6.1</td>\n      <td>2.0</td>\n      <td>0.0</td>\n      <td>0.0</td>\n      <td>0.0</td>\n      <td>0.0</td>\n      <td>1</td>\n      <td>1.0</td>\n      <td>2.0</td>\n      <td>...</td>\n      <td>6513672</td>\n      <td>5530778</td>\n      <td>12044450</td>\n      <td>8502752</td>\n      <td>3541699</td>\n      <td>1254746</td>\n      <td>38801</td>\n      <td>0</td>\n      <td>0</td>\n      <td>2248152</td>\n    </tr>\n    <tr>\n      <th>Altishofen</th>\n      <td>1.005567</td>\n      <td>2.1</td>\n      <td>1.3</td>\n      <td>0.0</td>\n      <td>0.0</td>\n      <td>0.0</td>\n      <td>0.0</td>\n      <td>5</td>\n      <td>2.5</td>\n      <td>4.0</td>\n      <td>...</td>\n      <td>13569690</td>\n      <td>13773478</td>\n      <td>27343168</td>\n      <td>6820858</td>\n      <td>20522311</td>\n      <td>4876009</td>\n      <td>56841</td>\n      <td>4775488</td>\n      <td>0</td>\n      <td>10813973</td>\n    </tr>\n    <tr>\n      <th>...</th>\n      <td>...</td>\n      <td>...</td>\n      <td>...</td>\n      <td>...</td>\n      <td>...</td>\n      <td>...</td>\n      <td>...</td>\n      <td>...</td>\n      <td>...</td>\n      <td>...</td>\n      <td>...</td>\n      <td>...</td>\n      <td>...</td>\n      <td>...</td>\n      <td>...</td>\n      <td>...</td>\n      <td>...</td>\n      <td>...</td>\n      <td>...</td>\n      <td>...</td>\n      <td>...</td>\n    </tr>\n    <tr>\n      <th>Honau</th>\n      <td>0.089783</td>\n      <td>0.0</td>\n      <td>0.0</td>\n      <td>0.0</td>\n      <td>0.0</td>\n      <td>0.0</td>\n      <td>0.0</td>\n      <td>1</td>\n      <td>2.4</td>\n      <td>1.0</td>\n      <td>...</td>\n      <td>5369088</td>\n      <td>45734</td>\n      <td>5414822</td>\n      <td>2694182</td>\n      <td>2720640</td>\n      <td>1765375</td>\n      <td>163816</td>\n      <td>0</td>\n      <td>0</td>\n      <td>791449</td>\n    </tr>\n    <tr>\n      <th>Rain</th>\n      <td>1.490393</td>\n      <td>0.0</td>\n      <td>0.0</td>\n      <td>0.0</td>\n      <td>0.0</td>\n      <td>0.0</td>\n      <td>0.0</td>\n      <td>12</td>\n      <td>4.1</td>\n      <td>5.0</td>\n      <td>...</td>\n      <td>36640455</td>\n      <td>14631698</td>\n      <td>51272154</td>\n      <td>35526066</td>\n      <td>15746088</td>\n      <td>4744277</td>\n      <td>28687</td>\n      <td>2159032</td>\n      <td>0</td>\n      <td>8814092</td>\n    </tr>\n    <tr>\n      <th>Romoos</th>\n      <td>0.161609</td>\n      <td>0.0</td>\n      <td>0.0</td>\n      <td>0.0</td>\n      <td>0.0</td>\n      <td>0.0</td>\n      <td>0.0</td>\n      <td>0</td>\n      <td>0.0</td>\n      <td>0.0</td>\n      <td>...</td>\n      <td>2402308</td>\n      <td>5181736</td>\n      <td>7584044</td>\n      <td>1241493</td>\n      <td>6342551</td>\n      <td>579826</td>\n      <td>204486</td>\n      <td>1365246</td>\n      <td>0</td>\n      <td>4192993</td>\n    </tr>\n    <tr>\n      <th>Schenkon</th>\n      <td>1.490393</td>\n      <td>0.0</td>\n      <td>0.0</td>\n      <td>0.0</td>\n      <td>0.0</td>\n      <td>0.0</td>\n      <td>0.0</td>\n      <td>9</td>\n      <td>2.9</td>\n      <td>11.0</td>\n      <td>...</td>\n      <td>50773750</td>\n      <td>31100927</td>\n      <td>81874677</td>\n      <td>42945796</td>\n      <td>38928881</td>\n      <td>4491128</td>\n      <td>1023992</td>\n      <td>7130196</td>\n      <td>0</td>\n      <td>26283564</td>\n    </tr>\n    <tr>\n      <th>Schlierbach</th>\n      <td>0.251392</td>\n      <td>0.0</td>\n      <td>0.0</td>\n      <td>0.0</td>\n      <td>0.0</td>\n      <td>0.0</td>\n      <td>0.0</td>\n      <td>2</td>\n      <td>2.2</td>\n      <td>1.0</td>\n      <td>...</td>\n      <td>6084253</td>\n      <td>6091308</td>\n      <td>12175561</td>\n      <td>9429405</td>\n      <td>2746155</td>\n      <td>388231</td>\n      <td>72427</td>\n      <td>0</td>\n      <td>0</td>\n      <td>2285497</td>\n    </tr>\n  </tbody>\n</table>\n<p>80 rows × 38 columns</p>\n</div>"
     },
     "execution_count": 12,
     "metadata": {},
     "output_type": "execute_result"
    }
   ],
   "source": [
    "# this assumes we have a dataframe with a column named Score and all other columns are features.\n",
    "# You might have to change this code if your dataframe looks different.\n",
    "\n",
    "prepare_dataframe(ranking)\n",
    "#df_final = read_csv('data', 'engineering.csv')\n",
    "#df_final = df_final.set_index('Gemeindename')\n",
    "#df_final['Score'] = ranking['Score']\n",
    "#unset index\n",
    "#df_final.reset_index(inplace=True)\n",
    "\n",
    "#create_csv('data','engineering_final.csv',df_final)\n",
    "df_final = read_csv('data', 'engineering_final.csv')\n",
    "df_final = df_final.set_index('Gemeindename')\n",
    "df_final = df_final.drop(columns=['Total Anzahl Dossiers'])\n",
    "df_final = df_final.drop(columns=['Total Sozialhilfequote'])\n",
    "df_final = df_final.drop(columns=['Total Sozialhilfequote Schweizer'])\n",
    "df_final = df_final.drop(columns=['Total Sozialhilfequote Ausländer'])\n",
    "\n",
    "linear, boost = runScoringSimple(df_final, 'Score')\n",
    "print(f'linear   : {linear}')\n",
    "print(f'boosting : {boost}')\n",
    "\n",
    "df_final"
   ]
  },
  {
   "cell_type": "markdown",
   "metadata": {},
   "source": [
    "# Do your own feature engineering here"
   ]
  },
  {
   "cell_type": "markdown",
   "metadata": {},
   "source": [
    "Your goal is to find the right features to get both scores as close to 0 as possible. Add more columns to your dataframe and choose which ones of those you will use for the machine learning models. Use the methods discussed in class to improve your results even further."
   ]
  },
  {
   "cell_type": "code",
   "execution_count": 11,
   "metadata": {
    "ExecuteTime": {
     "start_time": "2023-05-04T13:26:40.987575Z",
     "end_time": "2023-05-04T13:26:41.027341Z"
    }
   },
   "outputs": [],
   "source": [
    "#TODO: Insert all your code here "
   ]
  },
  {
   "cell_type": "code",
   "execution_count": 11,
   "metadata": {
    "ExecuteTime": {
     "start_time": "2023-05-04T13:26:40.998050Z",
     "end_time": "2023-05-04T13:26:41.123959Z"
    }
   },
   "outputs": [],
   "source": []
  }
 ],
 "metadata": {
  "kernelspec": {
   "display_name": "Python 3",
   "language": "python",
   "name": "python3"
  },
  "language_info": {
   "codemirror_mode": {
    "name": "ipython",
    "version": 3
   },
   "file_extension": ".py",
   "mimetype": "text/x-python",
   "name": "python",
   "nbconvert_exporter": "python",
   "pygments_lexer": "ipython3",
   "version": "3.8.3"
  }
 },
 "nbformat": 4,
 "nbformat_minor": 2
}
